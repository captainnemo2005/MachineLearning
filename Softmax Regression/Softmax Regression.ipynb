{
 "cells": [
  {
   "cell_type": "code",
   "execution_count": 24,
   "metadata": {},
   "outputs": [],
   "source": [
    "#We are going to build soft max function\n",
    "#Step 1: Import our dependency\n",
    "import numpy as np\n",
    "#Step 2: Our softmax\n",
    "def softmax(Z):\n",
    "    \"\"\"Compute softmax values for each sets of scores in V\n",
    "    each column of V is a set of scores\n",
    "    Z: a numpy array of shape(N,C)\n",
    "    return a numpy array of shape (N,C)\n",
    "    \"\"\"\n",
    "    e_Z = np.exp(Z) \n",
    "    A = e_Z/e_Z.sum(axis = 1, keepdims = True)\n",
    "    return A\n",
    "#This function will face hardship when we calculate\n",
    "#big set of number since the exp will take more time\n",
    "#to calculate\n",
    "# So will can develop new and stable function\n",
    "def softmax_stable(Z):\n",
    "    \"\"\" We now can minus the whole array with the \n",
    "    largest number inside of Z.\n",
    "    Then we repeat the whole process like what we do in\n",
    "    the softmax above\n",
    "    \"\"\"\n",
    "    e_Z = np.exp(Z - np.max(Z,axis = 1, keepdims = True)) \n",
    "    A = e_Z/e_Z.sum(axis = 1 , keepdims = True)\n",
    "    return A "
   ]
  },
  {
   "cell_type": "code",
   "execution_count": 25,
   "metadata": {},
   "outputs": [],
   "source": [
    "#Step 3: making our loss function\n",
    "def softmax_loss(X,y,W):\n",
    "    \"\"\"W : 2d array of shape (d,C)\n",
    "    each column corresponding to 1 output node\n",
    "    X: 2d array of shapem(N,d) - each row corresponding to 1 data point\n",
    "    y: 1d array -- label of each point in X\n",
    "    \"\"\"\n",
    "    A = softmax_stable(X.dot(W))\n",
    "    id0 = range(X.shape[0]) #This is the index number starting from number of row inside X\n",
    "    return -np.mean(np.log(A[id0,y])) #Just the formular"
   ]
  },
  {
   "cell_type": "code",
   "execution_count": 26,
   "metadata": {},
   "outputs": [],
   "source": [
    "#Step 4: Optimize the loss function by using the\n",
    "# mini batch gradient descent\n",
    "def softmax_grad(X,y,W):\n",
    "    \"\"\"W : 2d array of shape (d,C)\n",
    "    each column corresponding to 1 output node\n",
    "    X: 2d array of shapem(N,d) - each row corresponding to 1 data point\n",
    "    y: 1d array -- label of each point in X\n",
    "    \"\"\"\n",
    "    A = softmax_stable(X.dot(W))\n",
    "    id0 = range(X.shape[0])\n",
    "    A[id0, y ] -= 1 # A-Y\n",
    "    return X.T.dot(A)/X.shape[0]"
   ]
  },
  {
   "cell_type": "code",
   "execution_count": 34,
   "metadata": {},
   "outputs": [],
   "source": [
    "#Step 5: fit our model\n",
    "def softmax_fit(X,y,W, lr = 0.01, nepochs = 1000, tol = 1e-5 , batch_size = 10):\n",
    "    W_old = W.copy()\n",
    "    ep = 0 #For iteration\n",
    "    loss_hist = [softmax_loss(X,y,W)] #store history of loss\n",
    "    N = X.shape[0]\n",
    "    nbatches = int(np.ceil(float(N)/batch_size))#take the total size\n",
    "    while ep < nepochs:\n",
    "        ep += 1\n",
    "        mix_ids = np.random.permutation(N) # mix the data\n",
    "        for i in range(nbatches):\n",
    "            #Get the ith batch \n",
    "            #This line just got a bunch of 10 data point's index = batch size during an iteration\n",
    "            batch_ids = mix_ids[batch_size*i:min(batch_size*(i+1) , N)]\n",
    "            #actually taking the data\n",
    "            X_batch , y_batch = X[batch_ids], y[batch_ids]\n",
    "            #update the GD\n",
    "            W -= lr*softmax_grad(X_batch,y_batch,W)\n",
    "        loss_hist.append(softmax_loss(X,y,W))\n",
    "        if np.linalg.norm(W - W_old)/W.size < tol:\n",
    "            break\n",
    "        W_old = W.copy()\n",
    "    return W, loss_hist\n",
    "#Step 5: Making our prediction\n",
    "def pred(X,W):\n",
    "    return np.argmax(X.dot(W), axis = 1) "
   ]
  },
  {
   "cell_type": "code",
   "execution_count": 38,
   "metadata": {},
   "outputs": [
    {
     "name": "stdout",
     "output_type": "stream",
     "text": [
      "0.04942752750806835\n"
     ]
    },
    {
     "data": {
      "image/png": "[encoded data removed]",
      "text/plain": [
       "<matplotlib.figure.Figure at 0x12997c78198>"
      ]
     },
     "metadata": {},
     "output_type": "display_data"
    }
   ],
   "source": [
    "#Now we are going to actually creating data and feed it \n",
    "#to our model\n",
    "C, N = 5, 500\n",
    "means = [[2,2], [8,3] ,[3,6],[14,2],[12,8]]\n",
    "cov = [[1,0],[0,1]]\n",
    "#generating the data\n",
    "X0 = np.random.multivariate_normal(means[0],cov,N)\n",
    "X1 = np.random.multivariate_normal(means[1],cov,N)\n",
    "X2 = np.random.multivariate_normal(means[2],cov,N)\n",
    "X3 = np.random.multivariate_normal(means[3],cov,N)\n",
    "X4 = np.random.multivariate_normal(means[4],cov,N)\n",
    "#Combine them horizontally so we have each row is a data point\n",
    "X = np.concatenate((X0,X1,X2,X3,X4), axis = 0)\n",
    "Xbar = np.concatenate((X,np.ones((X.shape[0], 1))), axis = 1)\n",
    "#Setting the label\n",
    "y = np.asarray(N*[0] + N*[1]+ N*[2]+ N*[3] + N*[4])\n",
    "W_init = np.random.randn(Xbar.shape[1] , C)\n",
    "W, loss = softmax_fit(Xbar,y,W_init,lr = 0.01, nepochs = 1000, tol = 1e-5 , batch_size = 10 )\n",
    "\n",
    "import matplotlib.pyplot as plt\n",
    "print(loss[-1])\n",
    "plt.plot(loss)\n",
    "plt.show()"
   ]
  },
  {
   "cell_type": "code",
   "execution_count": 53,
   "metadata": {},
   "outputs": [
    {
     "name": "stdout",
     "output_type": "stream",
     "text": [
      "(1, 448000)\n",
      "(448000, 3)\n"
     ]
    },
    {
     "data": {
      "text/plain": [
       "448000"
      ]
     },
     "execution_count": 53,
     "metadata": {},
     "output_type": "execute_result"
    }
   ],
   "source": [
    "\n",
    "\n",
    "xm = np.arange(-2, 18, 0.025)\n",
    "xlen = len(xm)\n",
    "ym = np.arange(-3, 11, 0.025)\n",
    "ylen = len(ym)\n",
    "xx, yy = np.meshgrid(xm, ym)\n",
    "\n",
    "\n",
    "# xx, yy = np.meshgrid(np.arange(x_min, x_max, h), np.arange(y_min, y_max, h))\n",
    "# xx.ravel(), yy.ravel()\n",
    "\n",
    "print(np.ones((1, xx.size)).shape)\n",
    "xx1 = xx.ravel().reshape(-1, 1)\n",
    "yy1 = yy.ravel().reshape(-1, 1)\n",
    "\n",
    "# print(xx.shape, yy.shape)\n",
    "XX = np.concatenate(( xx1, yy1, np.ones(( xx.size, 1))), axis = 1)\n",
    "\n",
    "\n",
    "print(XX.shape)\n",
    "\n",
    "Z = pred(XX,W)\n",
    "\n",
    "len(yy1)\n"
   ]
  },
  {
   "cell_type": "code",
   "execution_count": null,
   "metadata": {},
   "outputs": [],
   "source": []
  }
 ],
 "metadata": {
  "kernelspec": {
   "display_name": "Python 3",
   "language": "python",
   "name": "python3"
  },
  "language_info": {
   "codemirror_mode": {
    "name": "ipython",
    "version": 3
   },
   "file_extension": ".py",
   "mimetype": "text/x-python",
   "name": "python",
   "nbconvert_exporter": "python",
   "pygments_lexer": "ipython3",
   "version": "3.6.4"
  }
 },
 "nbformat": 4,
 "nbformat_minor": 2
}
