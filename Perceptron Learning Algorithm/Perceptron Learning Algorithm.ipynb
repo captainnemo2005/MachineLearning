{
 "cells": [
  {
   "cell_type": "code",
   "execution_count": 13,
   "metadata": {},
   "outputs": [],
   "source": [
    "#Step 1: Import our dependencies\n",
    "import numpy as np\n",
    "import matplotlib.pyplot as plt\n",
    "from scipy.spatial.distance import cdist\n",
    "np.random.seed(2)\n",
    "\n",
    "#Step 2: Creating our data\n",
    "\n",
    "means = [[2,2],[4,2]]\n",
    "cov   = [[.3,.2],[.2,.3]]\n",
    "N = 10\n",
    "#This is our data\n",
    "X0 = np.random.multivariate_normal(means[0], cov, N).T\n",
    "X1 = np.random.multivariate_normal(means[1], cov, N).T\n",
    "\n",
    "x = np.concatenate((X0,X1), axis = 1) # This is it\n",
    "#We then label all of the data\n",
    "y = np.concatenate((np.ones((1,N)),-1*np.ones((1,N))), axis = 1) \n",
    "#Now we have to make Xbar\n",
    "Xbar = np.concatenate((np.ones((1,2*N)),x),axis = 0)\n",
    "\n",
    "#define the w_init\n",
    "d = x.shape[0]\n",
    "w_init = np.random.randn(d,1)\n"
   ]
  },
  {
   "cell_type": "code",
   "execution_count": 19,
   "metadata": {},
   "outputs": [
    {
     "data": {
      "text/plain": [
       "359"
      ]
     },
     "execution_count": 19,
     "metadata": {},
     "output_type": "execute_result"
    }
   ],
   "source": [
    "#Step 3 : Define some function to check and \n",
    "#run the PLA\n",
    "#h(w,x) help us compute the result when we \n",
    "#have w, x from the Perceptron function\n",
    "#by using the np.sign to check the dot\n",
    "#product between w.T and x\n",
    "def h(w,x):\n",
    "    return np.sign(np.dot(w.T,x))\n",
    "#this function will check the convergent\n",
    "#of the resulf by using the np.array_equal\n",
    "#to see that all points have been correct\n",
    "def has_converged(x,y,w):\n",
    "    return np.array_equal(h(w,x),y)\n",
    "#this function is our PLA\n",
    "def perceptron(x,y,w_init):\n",
    "    #initiate our w\n",
    "    w = [w_init]\n",
    "    #got some dimension parameter\n",
    "    N = x.shape[1]\n",
    "    d = x.shape[0]\n",
    "    #Holding the mispoint\n",
    "    mis_points = []\n",
    "    \n",
    "    while True:\n",
    "        #Mixing the data (i mean the order)\n",
    "        #this is because the oder of label and points\n",
    "        #is fairly ordered so we gonna access them\n",
    "        #by thix mix_id \n",
    "        mix_id = np.random.permutation(N)\n",
    "        \n",
    "        #Our PLA\n",
    "        for i in range(N):\n",
    "            xi = x[:,mix_id[i]].reshape(d,1)\n",
    "            yi = y[0,mix_id[i]]\n",
    "            #Now we have the data so let\n",
    "            if h(w[-1],xi)[0] != yi :\n",
    "                mis_points.append(xi)\n",
    "                w_new = xi*yi + w[-1]\n",
    "                w.append(w_new)\n",
    "            \n",
    "        if has_converged(x,y,w[-1]):\n",
    "            break\n",
    "    return [w,mis_points]\n",
    "\n",
    "[a,b] = perceptron(x,y,w_init) \n",
    "len(a)\n"
   ]
  },
  {
   "cell_type": "code",
   "execution_count": null,
   "metadata": {},
   "outputs": [],
   "source": []
  }
 ],
 "metadata": {
  "kernelspec": {
   "display_name": "Python 3",
   "language": "python",
   "name": "python3"
  },
  "language_info": {
   "codemirror_mode": {
    "name": "ipython",
    "version": 3
   },
   "file_extension": ".py",
   "mimetype": "text/x-python",
   "name": "python",
   "nbconvert_exporter": "python",
   "pygments_lexer": "ipython3",
   "version": "3.6.4"
  }
 },
 "nbformat": 4,
 "nbformat_minor": 2
}
