{
 "cells": [
  {
   "cell_type": "code",
   "execution_count": 9,
   "metadata": {},
   "outputs": [],
   "source": [
    "#This problem we try to find the distance between \n",
    "#points inside a set of points\n",
    "#This distance is Euclid Distance (we call it the norm 2)\n",
    "#Step 1: Defince the dependencies\n",
    "from __future__ import print_function\n",
    "from time import time\n",
    "import numpy as np\n",
    "#Creating the input \n",
    "#Step 2: Random our input\n",
    "d, N = 1000, 10000 # this is the dimensions\n",
    "X = np.random.randn(N,d) # This is the set of points\n",
    "z = np.random.randn(d) # This is a point inside that set of point\n",
    "\n",
    "\n",
    "# So now our job is trying to find the distance\n",
    "# between z and other points inside the X\n",
    "#Step 3:\n",
    "#Calculating the distance between 2 points\n",
    "def dist_pp(z,x):\n",
    "    d = z - x.reshape(z.shape) #Force x become same size with z\n",
    "    return np.sum(d*d)\n",
    "#Calculating the distance between 1 points\n",
    "#to a set of points\n",
    "def dist_ps_naive(z,X):\n",
    "    N = X.shape[0]\n",
    "    res = np.zeros((1,N))\n",
    "    for i in range (N):\n",
    "        res[0][i] = dist_pp(z,X[i])\n",
    "    return res\n",
    "#Calculating the same but in a faster way\n",
    "def dist_ps_fast(z,X):\n",
    "    X2 = np.sum(X*X,1) #This is X^2\n",
    "    z2 = np.sum(z*z)\n",
    "    return (X2+z2-2*X.dot(z))"
   ]
  },
  {
   "cell_type": "code",
   "execution_count": 12,
   "metadata": {},
   "outputs": [
    {
     "name": "stdout",
     "output_type": "stream",
     "text": [
      "0.14860320091247559\n",
      "0.054854393005371094\n"
     ]
    }
   ],
   "source": [
    "#Step 4:\n",
    "t1 = time()\n",
    "D1 = dist_ps_naive(z,X)\n",
    "\n",
    "t2 = time()\n",
    "D2 = dist_ps_fast(z,X)\n",
    "print(time() - t1)\n",
    "print(time() - t2)"
   ]
  },
  {
   "cell_type": "code",
   "execution_count": null,
   "metadata": {},
   "outputs": [],
   "source": []
  }
 ],
 "metadata": {
  "kernelspec": {
   "display_name": "Python 3",
   "language": "python",
   "name": "python3"
  },
  "language_info": {
   "codemirror_mode": {
    "name": "ipython",
    "version": 3
   },
   "file_extension": ".py",
   "mimetype": "text/x-python",
   "name": "python",
   "nbconvert_exporter": "python",
   "pygments_lexer": "ipython3",
   "version": "3.6.4"
  }
 },
 "nbformat": 4,
 "nbformat_minor": 2
}
