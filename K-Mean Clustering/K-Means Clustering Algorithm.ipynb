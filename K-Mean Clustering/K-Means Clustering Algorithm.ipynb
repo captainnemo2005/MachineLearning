{
 "cells": [
  {
   "cell_type": "code",
   "execution_count": 2,
   "metadata": {},
   "outputs": [],
   "source": [
    "#This is the main algorithm of K-Means Clustering\n",
    "#We are going to build a simple example\n",
    "#that including building our data base\n",
    "#as well as develop the main algorithm\n",
    "#Step 1: Importing our dependencies\n",
    "from __future__ import print_function\n",
    "import numpy as np\n",
    "import matplotlib.pyplot as plt\n",
    "# This one help us calculate the Euclid distance best\n",
    "from scipy.spatial.distance import cdist \n",
    "import random\n",
    "np.random.seed(18)"
   ]
  },
  {
   "cell_type": "code",
   "execution_count": 43,
   "metadata": {},
   "outputs": [],
   "source": [
    "#Step 2: Creating our database\n",
    "#This is our centroid (The labels so we can check the results)\n",
    "means = [[2,2],[8,3],[3,6]] \n",
    "cov = [[1,0],[0,1]]\n",
    "\n",
    "#Now we are going to generate points around the centroids \n",
    "N = 500\n",
    "X0 = np.random.multivariate_normal(means[0],cov,N) #we gonna have 500 points with 2D around means[0]\n",
    "X1 = np.random.multivariate_normal(means[1],cov,N) #we gonna have 500 points with 2D around means[1]\n",
    "X2 = np.random.multivariate_normal(means[2],cov,N) #we gonna have 500 points with 2D around means[2]\n",
    "\n",
    "#Now we combine all of them into one sigle plane\n",
    "X = np.concatenate((X0,X1,X2), axis = 0)\n",
    "K = 3 # 3 clusters\n",
    "#Give the given input its labels and push them into \n",
    "#an array original labels\n",
    "original_label = np.asarray([0]*N + [1]*N + [2]*N).T"
   ]
  },
  {
   "cell_type": "code",
   "execution_count": 51,
   "metadata": {},
   "outputs": [],
   "source": [
    "#Step 3: We now can develop the algorithm to find our\n",
    "#Centroid with the above data\n",
    "#Step 3.1: randomly choose the centroids\n",
    "def kmeans_init_centroids(X,k):\n",
    "    #Pick randomly k = 3 centroid inside the X matrix\n",
    "    #Because np.random.choice(X.shape[0],K, replace = False) only return \n",
    "    #The index of the X.Shape[0] so we have to use X[]\n",
    "    return X[np.random.choice(X.shape[0],K, replace = False)]\n",
    "#Find the label for data with the centroids\n",
    "def kmeans_assign_labels(X,centroids):\n",
    "    D = cdist(X,centroids)\n",
    "    #From here, 1 point will have 3 distances with \n",
    "    #3 centroids so\n",
    "    #Then we give back the index of the closest \n",
    "    return np.argmin(D, axis = 1)\n",
    "#So now after that we will have to update the centroids\n",
    "def kmeans_update_centroids(X, labels , K):\n",
    "    #Initiate 3 centroids with 2-D\n",
    "    centroids = np.zeros((K,X.shape[1]))\n",
    "    for k in range(K):\n",
    "        #Collect all points that have label k\n",
    "        Xk = X[labels == k , :]\n",
    "        centroids[k,:]  = np.mean(Xk, axis = 0)\n",
    "    return centroids\n",
    "#We also need to have some conditions to stop the algorithm\n",
    "def has_converged(centroids, new_centroids):\n",
    "    #This means that when we cannot update the centroids any more\n",
    "    return (set([tuple(a) for a in centroids]) == set([tuple(a) for a in new_centroids]))"
   ]
  },
  {
   "cell_type": "code",
   "execution_count": 52,
   "metadata": {},
   "outputs": [
    {
     "name": "stdout",
     "output_type": "stream",
     "text": [
      "[[3.78165693 2.16432607]\n",
      " [2.71495256 4.81373136]\n",
      " [8.7384328  2.98644565]]\n",
      "[[2.37454936 1.77942091]\n",
      " [2.75504223 5.48223065]\n",
      " [8.07887557 3.07763498]]\n",
      "[[2.00984159 1.97572133]\n",
      " [2.99310364 5.8557976 ]\n",
      " [7.98105766 3.061898  ]]\n",
      "[[2.00926148 2.04057779]\n",
      " [3.02677331 5.92271342]\n",
      " [7.98105766 3.061898  ]]\n",
      "[[2.01155636 2.05639698]\n",
      " [3.03260687 5.9379209 ]\n",
      " [7.98105766 3.061898  ]]\n"
     ]
    },
    {
     "data": {
      "text/plain": [
       "array([[2.01155636, 2.05639698],\n",
       "       [3.03260687, 5.9379209 ],\n",
       "       [7.98105766, 3.061898  ]])"
      ]
     },
     "execution_count": 52,
     "metadata": {},
     "output_type": "execute_result"
    }
   ],
   "source": [
    "#Step 4: Now after developed our function\n",
    "#We can combine them and make our K-Means\n",
    "#This have matrix X and K clusters\n",
    "def kmeans(X,K):\n",
    "    #random pick centroids by\n",
    "    centroids = [kmeans_init_centroids(X,K)]\n",
    "    labels = []\n",
    "    it = 0\n",
    "    \n",
    "    #Now we give the labels\n",
    "    while True:\n",
    "        print(centroids[-1])\n",
    "        labels.append(kmeans_assign_labels(X, centroids[-1]))\n",
    "        new_centroids = kmeans_update_centroids(X,labels[-1],K)\n",
    "        if has_converged(centroids[-1], new_centroids):\n",
    "            break\n",
    "        centroids.append(new_centroids)\n",
    "        it += 1\n",
    "    return (centroids, labels, it)\n",
    "\n",
    "(centroids, labels, it) = kmeans(X, K)\n",
    "centroids[-1]"
   ]
  },
  {
   "cell_type": "code",
   "execution_count": 54,
   "metadata": {},
   "outputs": [
    {
     "name": "stdout",
     "output_type": "stream",
     "text": [
      "Center found by sk.learn is \n",
      "[[7.98105766 3.061898  ]\n",
      " [3.03260687 5.9379209 ]\n",
      " [2.01155636 2.05639698]]\n"
     ]
    }
   ],
   "source": [
    "#Now we can check the result by using the scikit learn\n",
    "from sklearn.cluster import KMeans\n",
    "model = KMeans(n_clusters = 3, random_state = 0).fit(X)\n",
    "print(\"Center found by sk.learn is \")\n",
    "print(model.cluster_centers_)"
   ]
  },
  {
   "cell_type": "code",
   "execution_count": null,
   "metadata": {},
   "outputs": [],
   "source": []
  }
 ],
 "metadata": {
  "kernelspec": {
   "display_name": "Python 3",
   "language": "python",
   "name": "python3"
  },
  "language_info": {
   "codemirror_mode": {
    "name": "ipython",
    "version": 3
   },
   "file_extension": ".py",
   "mimetype": "text/x-python",
   "name": "python",
   "nbconvert_exporter": "python",
   "pygments_lexer": "ipython3",
   "version": "3.6.4"
  }
 },
 "nbformat": 4,
 "nbformat_minor": 2
}
