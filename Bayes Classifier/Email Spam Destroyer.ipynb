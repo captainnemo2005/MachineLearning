{
 "cells": [
  {
   "cell_type": "code",
   "execution_count": 3,
   "metadata": {},
   "outputs": [],
   "source": [
    "#We are going to solve Exercise 6 from Andrew Ng\n",
    "#That is creating an Email Spam killer for a given testing \n",
    "#900 different email using Naive Bayes Classifier\n",
    "\n",
    "#Step 1: Declare our dependencies\n",
    "from __future__ import print_function\n",
    "import numpy as np\n",
    "from sklearn.naive_bayes import MultinomialNB, BernoulliNB\n",
    "from sklearn.metrics import accuracy_score #Evaluating the results\n",
    "from scipy.sparse import coo_matrix # for sparse matrix"
   ]
  },
  {
   "cell_type": "code",
   "execution_count": 13,
   "metadata": {},
   "outputs": [],
   "source": [
    "#Step 1.1: Declare path to our data\n",
    "path = 'ex6DataPrepared/'\n",
    "train_data_fn = 'train-features.txt'\n",
    "train_label_fn = 'train-labels.txt'\n",
    "test_data_fn = 'test-features.txt'\n",
    "test_label_fn = 'test-labels.txt'"
   ]
  },
  {
   "cell_type": "code",
   "execution_count": 21,
   "metadata": {},
   "outputs": [],
   "source": [
    "#Number of word in our dictionary\n",
    "nwords = 2500\n",
    "#Step 1.2:\n",
    "#Now we have to match the data with its given \n",
    "#label from two different files\n",
    "def read_data(data_fn, label_fn):\n",
    "    #for labels\n",
    "    with open(path+label_fn) as f:\n",
    "        content = f.readlines()\n",
    "        #Now we have to remove the '\\n'\n",
    "    labels = [int(x.strip()) for x in content]\n",
    "    #for data\n",
    "    with open(path+data_fn) as f:\n",
    "        content = f.readlines()\n",
    "        #Now we have to remove the '\\n'\n",
    "    content = [x.strip() for x in content]\n",
    "    #Now we have to combine them together\n",
    "    \n",
    "    dat = np.zeros((len(content),3),dtype = int)\n",
    "    \n",
    "    for i, line in enumerate(content):\n",
    "        a = line.split(' ')\n",
    "        dat[i,:] = np.array([int(a[0]) , int(a[1]),int(a[2])])\n",
    "    \n",
    "    #Since our data has 3 numbers \n",
    "    #a[2] = occurences\n",
    "    #a[1] = position in the dictionary\n",
    "    #a[0] = Email number\n",
    "    \n",
    "    data = coo_matrix((dat[:,2], (dat[:,0] - 1,dat[:,1] - 1)), shape = (len(labels),nwords))\n",
    "    return (data,labels)"
   ]
  },
  {
   "cell_type": "code",
   "execution_count": 34,
   "metadata": {},
   "outputs": [
    {
     "name": "stdout",
     "output_type": "stream",
     "text": [
      "Training size = 700 , accuracy = 98.08%\n"
     ]
    }
   ],
   "source": [
    "#Step 3: After having a data\n",
    "#We now manipulate the Multinomial method\n",
    "\n",
    "#Load data\n",
    "(train_data , train_label) =  read_data(train_data_fn,train_label_fn)\n",
    "(test_data , test_label)   =  read_data(test_data_fn,test_label_fn)\n",
    "\n",
    "models = MultinomialNB()\n",
    "models.fit(train_data,train_label)\n",
    "\n",
    "y_pred = models.predict(test_data)\n",
    "print('Training size = %d , accuracy = %.2f%%' %  \n",
    "      (train_data.shape[0] ,accuracy_score(test_label,y_pred)*100))"
   ]
  },
  {
   "cell_type": "code",
   "execution_count": null,
   "metadata": {},
   "outputs": [],
   "source": []
  }
 ],
 "metadata": {
  "kernelspec": {
   "display_name": "Python 3",
   "language": "python",
   "name": "python3"
  },
  "language_info": {
   "codemirror_mode": {
    "name": "ipython",
    "version": 3
   },
   "file_extension": ".py",
   "mimetype": "text/x-python",
   "name": "python",
   "nbconvert_exporter": "python",
   "pygments_lexer": "ipython3",
   "version": "3.6.4"
  }
 },
 "nbformat": 4,
 "nbformat_minor": 2
}
