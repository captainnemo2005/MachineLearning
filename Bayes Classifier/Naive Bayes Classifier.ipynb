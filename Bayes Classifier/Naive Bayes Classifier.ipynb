{
 "cells": [
  {
   "cell_type": "code",
   "execution_count": 7,
   "metadata": {},
   "outputs": [
    {
     "name": "stdout",
     "output_type": "stream",
     "text": [
      "Predicting the result for d5 : B\n",
      "The result in d6 ['N']\n"
     ]
    }
   ],
   "source": [
    "#We will handle a simple \n",
    "#Naive Bayes Classifier \n",
    "#Step 1: import our dependencies\n",
    "from __future__ import print_function\n",
    "import numpy as np\n",
    "from sklearn.naive_bayes import MultinomialNB\n",
    "\n",
    "#Step 2: Creating our data\n",
    "d1 = [2,1,1,0,0,0,0,0,0]\n",
    "d2 = [1,1,0,1,1,0,0,0,0]\n",
    "d3 = [0,1,0,0,1,1,0,0,0]\n",
    "d4 = [0,1,0,0,0,0,1,1,1]\n",
    "\n",
    "train_data = np.array([d1,d2,d3,d4])\n",
    "train_labels = np.array(['B','B','B','N'])\n",
    "\n",
    "#Testing data\n",
    "d5 = np.array([[2,0,0,1,0,0,0,1,0]])\n",
    "d6 = np.array([[0,1,0,0,0,0,0,1,1]])\n",
    "\n",
    "#Step 3: Training our model\n",
    "model = MultinomialNB()\n",
    "model.fit(train_data,train_labels)\n",
    "\n",
    "#Step 4: Testing\n",
    "print('Predicting the result for d5 :', str(model.predict(d5)[0]))\n",
    "print(\"The result in d6\", model.predict(d6))"
   ]
  },
  {
   "cell_type": "code",
   "execution_count": 9,
   "metadata": {},
   "outputs": [
    {
     "name": "stdout",
     "output_type": "stream",
     "text": [
      "Predicting the result for d5 : B\n",
      "The result in d6 ['N']\n"
     ]
    }
   ],
   "source": [
    "#Now we do the same process but will \n",
    "#solve the problem with Bernoulli\n",
    "#Step 1: import our dependencies\n",
    "from __future__ import print_function\n",
    "import numpy as np\n",
    "from sklearn.naive_bayes import BernoulliNB\n",
    "\n",
    "#Step 2: Creating our data\n",
    "d1 = [2,1,1,0,0,0,0,0,0]\n",
    "d2 = [1,1,0,1,1,0,0,0,0]\n",
    "d3 = [0,1,0,0,1,1,0,0,0]\n",
    "d4 = [0,1,0,0,0,0,1,1,1]\n",
    "\n",
    "train_data = np.array([d1,d2,d3,d4])\n",
    "train_labels = np.array(['B','B','B','N'])\n",
    "\n",
    "#Testing data\n",
    "d5 = np.array([[2,0,0,1,0,0,0,1,0]])\n",
    "d6 = np.array([[0,1,0,0,0,0,0,1,1]])\n",
    "\n",
    "#Step 3: Training our model\n",
    "model = BernoulliNB()\n",
    "model.fit(train_data,train_labels)\n",
    "\n",
    "#Step 4: Testing\n",
    "print('Predicting the result for d5 :', str(model.predict(d5)[0]))\n",
    "print(\"The result in d6\", model.predict(d6))"
   ]
  },
  {
   "cell_type": "code",
   "execution_count": null,
   "metadata": {},
   "outputs": [],
   "source": [
    "#So They give the same answer for this simple problem"
   ]
  }
 ],
 "metadata": {
  "kernelspec": {
   "display_name": "Python 3",
   "language": "python",
   "name": "python3"
  },
  "language_info": {
   "codemirror_mode": {
    "name": "ipython",
    "version": 3
   },
   "file_extension": ".py",
   "mimetype": "text/x-python",
   "name": "python",
   "nbconvert_exporter": "python",
   "pygments_lexer": "ipython3",
   "version": "3.6.4"
  }
 },
 "nbformat": 4,
 "nbformat_minor": 2
}
